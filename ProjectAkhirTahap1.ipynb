{
  "nbformat": 4,
  "nbformat_minor": 0,
  "metadata": {
    "colab": {
      "name": "ProjectAkhirTahap1.ipynb",
      "provenance": [],
      "collapsed_sections": []
    },
    "kernelspec": {
      "name": "python3",
      "display_name": "Python 3"
    },
    "language_info": {
      "name": "python"
    }
  },
  "cells": [
    {
      "cell_type": "code",
      "metadata": {
        "id": "LOOhwru-vqVM"
      },
      "source": [
        "import pandas as pd\n",
        "import numpy as np \n",
        "import seaborn as sns\n",
        "import matplotlib.pyplot as plt"
      ],
      "execution_count": null,
      "outputs": []
    },
    {
      "cell_type": "code",
      "metadata": {
        "colab": {
          "base_uri": "https://localhost:8080/",
          "height": 299
        },
        "id": "TYy0CosGea8b",
        "outputId": "b8036432-ed30-448b-84d7-3dabdcbe7e76"
      },
      "source": [
        "from google.colab import files\n",
        "data = files.upload()"
      ],
      "execution_count": null,
      "outputs": [
        {
          "output_type": "error",
          "ename": "TypeError",
          "evalue": "ignored",
          "traceback": [
            "\u001b[0;31m---------------------------------------------------------------------------\u001b[0m",
            "\u001b[0;31mTypeError\u001b[0m                                 Traceback (most recent call last)",
            "\u001b[0;32m<ipython-input-2-cb6220740720>\u001b[0m in \u001b[0;36m<module>\u001b[0;34m()\u001b[0m\n\u001b[1;32m      1\u001b[0m \u001b[0;32mfrom\u001b[0m \u001b[0mgoogle\u001b[0m\u001b[0;34m.\u001b[0m\u001b[0mcolab\u001b[0m \u001b[0;32mimport\u001b[0m \u001b[0mfiles\u001b[0m\u001b[0;34m\u001b[0m\u001b[0;34m\u001b[0m\u001b[0m\n\u001b[0;32m----> 2\u001b[0;31m \u001b[0mdata\u001b[0m \u001b[0;34m=\u001b[0m \u001b[0mfiles\u001b[0m\u001b[0;34m.\u001b[0m\u001b[0mupload\u001b[0m\u001b[0;34m(\u001b[0m\u001b[0;34m)\u001b[0m\u001b[0;34m\u001b[0m\u001b[0;34m\u001b[0m\u001b[0m\n\u001b[0m",
            "\u001b[0;32m/usr/local/lib/python3.7/dist-packages/google/colab/files.py\u001b[0m in \u001b[0;36mupload\u001b[0;34m()\u001b[0m\n\u001b[1;32m     67\u001b[0m   \u001b[0mlocal_filenames\u001b[0m \u001b[0;34m=\u001b[0m \u001b[0mdict\u001b[0m\u001b[0;34m(\u001b[0m\u001b[0;34m)\u001b[0m\u001b[0;34m\u001b[0m\u001b[0;34m\u001b[0m\u001b[0m\n\u001b[1;32m     68\u001b[0m \u001b[0;34m\u001b[0m\u001b[0m\n\u001b[0;32m---> 69\u001b[0;31m   \u001b[0;32mwhile\u001b[0m \u001b[0mresult\u001b[0m\u001b[0;34m[\u001b[0m\u001b[0;34m'action'\u001b[0m\u001b[0;34m]\u001b[0m \u001b[0;34m!=\u001b[0m \u001b[0;34m'complete'\u001b[0m\u001b[0;34m:\u001b[0m\u001b[0;34m\u001b[0m\u001b[0;34m\u001b[0m\u001b[0m\n\u001b[0m\u001b[1;32m     70\u001b[0m     result = _output.eval_js(\n\u001b[1;32m     71\u001b[0m         'google.colab._files._uploadFilesContinue(\"{output_id}\")'.format(\n",
            "\u001b[0;31mTypeError\u001b[0m: 'NoneType' object is not subscriptable"
          ]
        }
      ]
    },
    {
      "cell_type": "code",
      "metadata": {
        "colab": {
          "base_uri": "https://localhost:8080/"
        },
        "id": "iJP7RZZxgaU-",
        "outputId": "05587c55-44a9-4e5c-a5df-52435f72dd2c"
      },
      "source": [
        "data"
      ],
      "execution_count": null,
      "outputs": [
        {
          "output_type": "execute_result",
          "data": {
            "text/plain": [
              "{'Census_Data_-_Selected_socioeconomic_indicators_in_Chicago__2008___2012-v2.csv': b\"COMMUNITY_AREA_NUMBER,COMMUNITY_AREA_NAME,PERCENT OF HOUSING CROWDED,PERCENT HOUSEHOLDS BELOW POVERTY,PERCENT AGED 16+ UNEMPLOYED,PERCENT AGED 25+ WITHOUT HIGH SCHOOL DIPLOMA,PERCENT AGED UNDER 18 OR OVER 64,PER_CAPITA_INCOME ,HARDSHIP_INDEX\\r\\n1,Rogers Park,7.7,23.6,8.7,18.2,27.5,23939,39\\r\\n2,West Ridge,7.8,17.2,8.8,20.8,38.5,23040,46\\r\\n3,Uptown,3.8,24,8.9,11.8,22.2,35787,20\\r\\n4,Lincoln Square,3.4,10.9,8.2,13.4,25.5,37524,17\\r\\n5,North Center,0.3,7.5,5.2,4.5,26.2,57123,6\\r\\n6,Lake View,1.1,11.4,4.7,2.6,17,60058,5\\r\\n7,Lincoln Park,0.8,12.3,5.1,3.6,21.5,71551,2\\r\\n8,Near North Side,1.9,12.9,7,2.5,22.6,88669,1\\r\\n9,Edison Park,1.1,3.3,6.5,7.4,35.3,40959,8\\r\\n10,Norwood Park,2,5.4,9,11.5,39.5,32875,21\\r\\n11,Jefferson Park,2.7,8.6,12.4,13.4,35.5,27751,25\\r\\n12,Forest Glen,1.1,7.5,6.8,4.9,40.5,44164,11\\r\\n13,North Park,3.9,13.2,9.9,14.4,39,26576,33\\r\\n14,Albany Park,11.3,19.2,10,32.9,32,21323,53\\r\\n15,Portage Park,4.1,11.6,12.6,19.3,34,24336,35\\r\\n16,Irving Park,6.3,13.1,10,22.4,31.6,27249,34\\r\\n17,Dunning,5.2,10.6,10,16.2,33.6,26282,28\\r\\n18,Montclaire,8.1,15.3,13.8,23.5,38.6,22014,50\\r\\n19,Belmont Cragin,10.8,18.7,14.6,37.3,37.3,15461,70\\r\\n20,Hermosa,6.9,20.5,13.1,41.6,36.4,15089,71\\r\\n21,Avondale,6,15.3,9.2,24.7,31,20039,42\\r\\n22,Logan Square,3.2,16.8,8.2,14.8,26.2,31908,23\\r\\n23,Humboldt park,14.8,33.9,17.3,35.4,38,13781,85\\r\\n24,West Town,2.3,14.7,6.6,12.9,21.7,43198,10\\r\\n25,Austin,6.3,28.6,22.6,24.4,37.9,15957,73\\r\\n26,West Garfield Park,9.4,41.7,25.8,24.5,43.6,10934,92\\r\\n27,East Garfield Park,8.2,42.4,19.6,21.3,43.2,12961,83\\r\\n28,Near West Side,3.8,20.6,10.7,9.6,22.2,44689,15\\r\\n29,North Lawndale,7.4,43.1,21.2,27.6,42.7,12034,87\\r\\n30,South Lawndale,15.2,30.7,15.8,54.8,33.8,10402,96\\r\\n31,Lower West Side,9.6,25.8,15.8,40.7,32.6,16444,76\\r\\n32,Loop,1.5,14.7,5.7,3.1,13.5,65526,3\\r\\n33,Near South Side,1.3,13.8,4.9,7.4,21.8,59077,7\\r\\n34,Armour Square,5.7,40.1,16.7,34.5,38.3,16148,82\\r\\n35,Douglas,1.8,29.6,18.2,14.3,30.7,23791,47\\r\\n36,Oakland,1.3,39.7,28.7,18.4,40.4,19252,78\\r\\n37,Fuller Park,3.2,51.2,33.9,26.6,44.9,10432,97\\r\\n38,Grand Boulevard,3.3,29.3,24.3,15.9,39.5,23472,57\\r\\n39,Kenwood,2.4,21.7,15.7,11.3,35.4,35911,26\\r\\n40,Washington Park,5.6,42.1,28.6,25.4,42.8,13785,88\\r\\n41,Hyde Park,1.5,18.4,8.4,4.3,26.2,39056,14\\r\\n42,Woodlawn,2.9,30.7,23.4,16.5,36.1,18672,58\\r\\n43,South Shore,2.8,31.1,20,14,35.7,19398,55\\r\\n44,Chatham,3.3,27.8,24,14.5,40.3,18881,60\\r\\n45,Avalon Park,1.4,17.2,21.1,10.6,39.3,24454,41\\r\\n46,South Chicago,4.7,29.8,19.7,26.6,41.1,16579,75\\r\\n47,Burnside,6.8,33,18.6,19.3,42.7,12515,79\\r\\n48,Calumet Heights,2.1,11.5,20,11,44,28887,38\\r\\n49,Roseland,2.5,19.8,20.3,16.9,41.2,17949,52\\r\\n50,Pullman,1.5,21.6,22.8,13.1,38.6,20588,51\\r\\n51,South Deering,4,29.2,16.3,21,39.5,14685,65\\r\\n52,East Side,6.8,19.2,12.1,31.9,42.8,17104,64\\r\\n53,West Pullman,3.3,25.9,19.4,20.5,42.1,16563,62\\r\\n54,Riverdale,5.8,56.5,34.6,27.5,51.5,8201,98\\r\\n55,Hegewisch,3.3,17.1,9.6,19.2,42.9,22677,44\\r\\n56,Garfield Ridge,2.6,8.8,11.3,19.3,38.1,26353,32\\r\\n57,Archer Heights,8.5,14.1,16.5,35.9,39.2,16134,67\\r\\n58,Brighton Park,14.4,23.6,13.9,45.1,39.3,13089,84\\r\\n59,McKinley Park,7.2,18.7,13.4,32.9,35.6,16954,61\\r\\n60,Bridgeport,4.5,18.9,13.7,22.2,31.3,22694,43\\r\\n61,New City,11.9,29,23,41.5,38.9,12765,91\\r\\n62,West Elsdon,11.1,15.6,16.7,37,37.7,15754,69\\r\\n63,Gage Park,15.8,23.4,18.2,51.5,38.8,12171,93\\r\\n64,Clearing,2.7,8.9,9.5,18.8,37.6,25113,29\\r\\n65,West Lawn,5.8,14.9,9.6,33.6,39.6,16907,56\\r\\n66,Chicago Lawn,7.6,27.9,17.1,31.2,40.6,13231,80\\r\\n67,West Englewood,4.8,34.4,35.9,26.3,40.7,11317,89\\r\\n68,Englewood,3.8,46.6,28,28.5,42.5,11888,94\\r\\n69,Greater Grand Crossing,3.6,29.6,23,16.5,41,17285,66\\r\\n70,Ashburn,4,10.4,11.7,17.7,36.9,23482,37\\r\\n71,Auburn Gresham,4,27.6,28.3,18.5,41.9,15528,74\\r\\n72,Beverly,0.9,5.1,8,3.7,40.5,39523,12\\r\\n73,Washington Height,1.1,16.9,20.8,13.7,42.6,19713,48\\r\\n74,Mount Greenwood,1,3.4,8.7,4.3,36.8,34381,16\\r\\n75,Morgan Park,0.8,13.2,15,10.8,40.3,27149,30\\r\\n76,O'Hare,3.6,15.4,7.1,10.9,30.3,25828,24\\r\\n77,Edgewater,4.1,18.2,9.2,9.7,23.8,33385,19\\r\\n,CHICAGO,4.7,19.7,12.9,19.5,33.5,28202,\"}"
            ]
          },
          "metadata": {},
          "execution_count": 33
        }
      ]
    },
    {
      "cell_type": "code",
      "metadata": {
        "id": "x80wQtDyk1KR"
      },
      "source": [
        "data = pd.read_csv('Census_Data_-_Selected_socioeconomic_indicators_in_Chicago__2008___2012-v2.csv')"
      ],
      "execution_count": null,
      "outputs": []
    },
    {
      "cell_type": "code",
      "metadata": {
        "colab": {
          "base_uri": "https://localhost:8080/",
          "height": 238
        },
        "id": "tuWtNj39mcAD",
        "outputId": "b57781c3-0c69-4770-a518-e54e4b9f836c"
      },
      "source": [
        "data.tail()"
      ],
      "execution_count": null,
      "outputs": [
        {
          "output_type": "execute_result",
          "data": {
            "text/html": [
              "<div>\n",
              "<style scoped>\n",
              "    .dataframe tbody tr th:only-of-type {\n",
              "        vertical-align: middle;\n",
              "    }\n",
              "\n",
              "    .dataframe tbody tr th {\n",
              "        vertical-align: top;\n",
              "    }\n",
              "\n",
              "    .dataframe thead th {\n",
              "        text-align: right;\n",
              "    }\n",
              "</style>\n",
              "<table border=\"1\" class=\"dataframe\">\n",
              "  <thead>\n",
              "    <tr style=\"text-align: right;\">\n",
              "      <th></th>\n",
              "      <th>COMMUNITY_AREA_NUMBER</th>\n",
              "      <th>COMMUNITY_AREA_NAME</th>\n",
              "      <th>PERCENT OF HOUSING CROWDED</th>\n",
              "      <th>PERCENT HOUSEHOLDS BELOW POVERTY</th>\n",
              "      <th>PERCENT AGED 16+ UNEMPLOYED</th>\n",
              "      <th>PERCENT AGED 25+ WITHOUT HIGH SCHOOL DIPLOMA</th>\n",
              "      <th>PERCENT AGED UNDER 18 OR OVER 64</th>\n",
              "      <th>PER_CAPITA_INCOME</th>\n",
              "      <th>HARDSHIP_INDEX</th>\n",
              "    </tr>\n",
              "  </thead>\n",
              "  <tbody>\n",
              "    <tr>\n",
              "      <th>73</th>\n",
              "      <td>74.0</td>\n",
              "      <td>Mount Greenwood</td>\n",
              "      <td>1.0</td>\n",
              "      <td>3.4</td>\n",
              "      <td>8.7</td>\n",
              "      <td>4.3</td>\n",
              "      <td>36.8</td>\n",
              "      <td>34381</td>\n",
              "      <td>16.0</td>\n",
              "    </tr>\n",
              "    <tr>\n",
              "      <th>74</th>\n",
              "      <td>75.0</td>\n",
              "      <td>Morgan Park</td>\n",
              "      <td>0.8</td>\n",
              "      <td>13.2</td>\n",
              "      <td>15.0</td>\n",
              "      <td>10.8</td>\n",
              "      <td>40.3</td>\n",
              "      <td>27149</td>\n",
              "      <td>30.0</td>\n",
              "    </tr>\n",
              "    <tr>\n",
              "      <th>75</th>\n",
              "      <td>76.0</td>\n",
              "      <td>O'Hare</td>\n",
              "      <td>3.6</td>\n",
              "      <td>15.4</td>\n",
              "      <td>7.1</td>\n",
              "      <td>10.9</td>\n",
              "      <td>30.3</td>\n",
              "      <td>25828</td>\n",
              "      <td>24.0</td>\n",
              "    </tr>\n",
              "    <tr>\n",
              "      <th>76</th>\n",
              "      <td>77.0</td>\n",
              "      <td>Edgewater</td>\n",
              "      <td>4.1</td>\n",
              "      <td>18.2</td>\n",
              "      <td>9.2</td>\n",
              "      <td>9.7</td>\n",
              "      <td>23.8</td>\n",
              "      <td>33385</td>\n",
              "      <td>19.0</td>\n",
              "    </tr>\n",
              "    <tr>\n",
              "      <th>77</th>\n",
              "      <td>NaN</td>\n",
              "      <td>CHICAGO</td>\n",
              "      <td>4.7</td>\n",
              "      <td>19.7</td>\n",
              "      <td>12.9</td>\n",
              "      <td>19.5</td>\n",
              "      <td>33.5</td>\n",
              "      <td>28202</td>\n",
              "      <td>NaN</td>\n",
              "    </tr>\n",
              "  </tbody>\n",
              "</table>\n",
              "</div>"
            ],
            "text/plain": [
              "    COMMUNITY_AREA_NUMBER  ... HARDSHIP_INDEX\n",
              "73                   74.0  ...           16.0\n",
              "74                   75.0  ...           30.0\n",
              "75                   76.0  ...           24.0\n",
              "76                   77.0  ...           19.0\n",
              "77                    NaN  ...            NaN\n",
              "\n",
              "[5 rows x 9 columns]"
            ]
          },
          "metadata": {},
          "execution_count": 36
        }
      ]
    },
    {
      "cell_type": "code",
      "metadata": {
        "colab": {
          "base_uri": "https://localhost:8080/",
          "height": 453
        },
        "id": "vRS7s_I0mgbo",
        "outputId": "7df6228d-4a72-4e31-c9e2-4a897d4b505a"
      },
      "source": [
        "data"
      ],
      "execution_count": null,
      "outputs": [
        {
          "output_type": "execute_result",
          "data": {
            "text/html": [
              "<div>\n",
              "<style scoped>\n",
              "    .dataframe tbody tr th:only-of-type {\n",
              "        vertical-align: middle;\n",
              "    }\n",
              "\n",
              "    .dataframe tbody tr th {\n",
              "        vertical-align: top;\n",
              "    }\n",
              "\n",
              "    .dataframe thead th {\n",
              "        text-align: right;\n",
              "    }\n",
              "</style>\n",
              "<table border=\"1\" class=\"dataframe\">\n",
              "  <thead>\n",
              "    <tr style=\"text-align: right;\">\n",
              "      <th></th>\n",
              "      <th>COMMUNITY_AREA_NUMBER</th>\n",
              "      <th>COMMUNITY_AREA_NAME</th>\n",
              "      <th>PERCENT OF HOUSING CROWDED</th>\n",
              "      <th>PERCENT HOUSEHOLDS BELOW POVERTY</th>\n",
              "      <th>PERCENT AGED 16+ UNEMPLOYED</th>\n",
              "      <th>PERCENT AGED 25+ WITHOUT HIGH SCHOOL DIPLOMA</th>\n",
              "      <th>PERCENT AGED UNDER 18 OR OVER 64</th>\n",
              "      <th>PER_CAPITA_INCOME</th>\n",
              "      <th>HARDSHIP_INDEX</th>\n",
              "    </tr>\n",
              "  </thead>\n",
              "  <tbody>\n",
              "    <tr>\n",
              "      <th>0</th>\n",
              "      <td>1.0</td>\n",
              "      <td>Rogers Park</td>\n",
              "      <td>7.7</td>\n",
              "      <td>23.6</td>\n",
              "      <td>8.7</td>\n",
              "      <td>18.2</td>\n",
              "      <td>27.5</td>\n",
              "      <td>23939</td>\n",
              "      <td>39.0</td>\n",
              "    </tr>\n",
              "    <tr>\n",
              "      <th>1</th>\n",
              "      <td>2.0</td>\n",
              "      <td>West Ridge</td>\n",
              "      <td>7.8</td>\n",
              "      <td>17.2</td>\n",
              "      <td>8.8</td>\n",
              "      <td>20.8</td>\n",
              "      <td>38.5</td>\n",
              "      <td>23040</td>\n",
              "      <td>46.0</td>\n",
              "    </tr>\n",
              "    <tr>\n",
              "      <th>2</th>\n",
              "      <td>3.0</td>\n",
              "      <td>Uptown</td>\n",
              "      <td>3.8</td>\n",
              "      <td>24.0</td>\n",
              "      <td>8.9</td>\n",
              "      <td>11.8</td>\n",
              "      <td>22.2</td>\n",
              "      <td>35787</td>\n",
              "      <td>20.0</td>\n",
              "    </tr>\n",
              "    <tr>\n",
              "      <th>3</th>\n",
              "      <td>4.0</td>\n",
              "      <td>Lincoln Square</td>\n",
              "      <td>3.4</td>\n",
              "      <td>10.9</td>\n",
              "      <td>8.2</td>\n",
              "      <td>13.4</td>\n",
              "      <td>25.5</td>\n",
              "      <td>37524</td>\n",
              "      <td>17.0</td>\n",
              "    </tr>\n",
              "    <tr>\n",
              "      <th>4</th>\n",
              "      <td>5.0</td>\n",
              "      <td>North Center</td>\n",
              "      <td>0.3</td>\n",
              "      <td>7.5</td>\n",
              "      <td>5.2</td>\n",
              "      <td>4.5</td>\n",
              "      <td>26.2</td>\n",
              "      <td>57123</td>\n",
              "      <td>6.0</td>\n",
              "    </tr>\n",
              "    <tr>\n",
              "      <th>...</th>\n",
              "      <td>...</td>\n",
              "      <td>...</td>\n",
              "      <td>...</td>\n",
              "      <td>...</td>\n",
              "      <td>...</td>\n",
              "      <td>...</td>\n",
              "      <td>...</td>\n",
              "      <td>...</td>\n",
              "      <td>...</td>\n",
              "    </tr>\n",
              "    <tr>\n",
              "      <th>73</th>\n",
              "      <td>74.0</td>\n",
              "      <td>Mount Greenwood</td>\n",
              "      <td>1.0</td>\n",
              "      <td>3.4</td>\n",
              "      <td>8.7</td>\n",
              "      <td>4.3</td>\n",
              "      <td>36.8</td>\n",
              "      <td>34381</td>\n",
              "      <td>16.0</td>\n",
              "    </tr>\n",
              "    <tr>\n",
              "      <th>74</th>\n",
              "      <td>75.0</td>\n",
              "      <td>Morgan Park</td>\n",
              "      <td>0.8</td>\n",
              "      <td>13.2</td>\n",
              "      <td>15.0</td>\n",
              "      <td>10.8</td>\n",
              "      <td>40.3</td>\n",
              "      <td>27149</td>\n",
              "      <td>30.0</td>\n",
              "    </tr>\n",
              "    <tr>\n",
              "      <th>75</th>\n",
              "      <td>76.0</td>\n",
              "      <td>O'Hare</td>\n",
              "      <td>3.6</td>\n",
              "      <td>15.4</td>\n",
              "      <td>7.1</td>\n",
              "      <td>10.9</td>\n",
              "      <td>30.3</td>\n",
              "      <td>25828</td>\n",
              "      <td>24.0</td>\n",
              "    </tr>\n",
              "    <tr>\n",
              "      <th>76</th>\n",
              "      <td>77.0</td>\n",
              "      <td>Edgewater</td>\n",
              "      <td>4.1</td>\n",
              "      <td>18.2</td>\n",
              "      <td>9.2</td>\n",
              "      <td>9.7</td>\n",
              "      <td>23.8</td>\n",
              "      <td>33385</td>\n",
              "      <td>19.0</td>\n",
              "    </tr>\n",
              "    <tr>\n",
              "      <th>77</th>\n",
              "      <td>NaN</td>\n",
              "      <td>CHICAGO</td>\n",
              "      <td>4.7</td>\n",
              "      <td>19.7</td>\n",
              "      <td>12.9</td>\n",
              "      <td>19.5</td>\n",
              "      <td>33.5</td>\n",
              "      <td>28202</td>\n",
              "      <td>NaN</td>\n",
              "    </tr>\n",
              "  </tbody>\n",
              "</table>\n",
              "<p>78 rows × 9 columns</p>\n",
              "</div>"
            ],
            "text/plain": [
              "    COMMUNITY_AREA_NUMBER  ... HARDSHIP_INDEX\n",
              "0                     1.0  ...           39.0\n",
              "1                     2.0  ...           46.0\n",
              "2                     3.0  ...           20.0\n",
              "3                     4.0  ...           17.0\n",
              "4                     5.0  ...            6.0\n",
              "..                    ...  ...            ...\n",
              "73                   74.0  ...           16.0\n",
              "74                   75.0  ...           30.0\n",
              "75                   76.0  ...           24.0\n",
              "76                   77.0  ...           19.0\n",
              "77                    NaN  ...            NaN\n",
              "\n",
              "[78 rows x 9 columns]"
            ]
          },
          "metadata": {},
          "execution_count": 37
        }
      ]
    },
    {
      "cell_type": "code",
      "metadata": {
        "colab": {
          "base_uri": "https://localhost:8080/",
          "height": 238
        },
        "id": "SruAdyMvmkqb",
        "outputId": "a52de6e1-bf64-41b1-be22-cd8871837b3a"
      },
      "source": [
        "data.head()"
      ],
      "execution_count": null,
      "outputs": [
        {
          "output_type": "execute_result",
          "data": {
            "text/html": [
              "<div>\n",
              "<style scoped>\n",
              "    .dataframe tbody tr th:only-of-type {\n",
              "        vertical-align: middle;\n",
              "    }\n",
              "\n",
              "    .dataframe tbody tr th {\n",
              "        vertical-align: top;\n",
              "    }\n",
              "\n",
              "    .dataframe thead th {\n",
              "        text-align: right;\n",
              "    }\n",
              "</style>\n",
              "<table border=\"1\" class=\"dataframe\">\n",
              "  <thead>\n",
              "    <tr style=\"text-align: right;\">\n",
              "      <th></th>\n",
              "      <th>COMMUNITY_AREA_NUMBER</th>\n",
              "      <th>COMMUNITY_AREA_NAME</th>\n",
              "      <th>PERCENT OF HOUSING CROWDED</th>\n",
              "      <th>PERCENT HOUSEHOLDS BELOW POVERTY</th>\n",
              "      <th>PERCENT AGED 16+ UNEMPLOYED</th>\n",
              "      <th>PERCENT AGED 25+ WITHOUT HIGH SCHOOL DIPLOMA</th>\n",
              "      <th>PERCENT AGED UNDER 18 OR OVER 64</th>\n",
              "      <th>PER_CAPITA_INCOME</th>\n",
              "      <th>HARDSHIP_INDEX</th>\n",
              "    </tr>\n",
              "  </thead>\n",
              "  <tbody>\n",
              "    <tr>\n",
              "      <th>0</th>\n",
              "      <td>1.0</td>\n",
              "      <td>Rogers Park</td>\n",
              "      <td>7.7</td>\n",
              "      <td>23.6</td>\n",
              "      <td>8.7</td>\n",
              "      <td>18.2</td>\n",
              "      <td>27.5</td>\n",
              "      <td>23939</td>\n",
              "      <td>39.0</td>\n",
              "    </tr>\n",
              "    <tr>\n",
              "      <th>1</th>\n",
              "      <td>2.0</td>\n",
              "      <td>West Ridge</td>\n",
              "      <td>7.8</td>\n",
              "      <td>17.2</td>\n",
              "      <td>8.8</td>\n",
              "      <td>20.8</td>\n",
              "      <td>38.5</td>\n",
              "      <td>23040</td>\n",
              "      <td>46.0</td>\n",
              "    </tr>\n",
              "    <tr>\n",
              "      <th>2</th>\n",
              "      <td>3.0</td>\n",
              "      <td>Uptown</td>\n",
              "      <td>3.8</td>\n",
              "      <td>24.0</td>\n",
              "      <td>8.9</td>\n",
              "      <td>11.8</td>\n",
              "      <td>22.2</td>\n",
              "      <td>35787</td>\n",
              "      <td>20.0</td>\n",
              "    </tr>\n",
              "    <tr>\n",
              "      <th>3</th>\n",
              "      <td>4.0</td>\n",
              "      <td>Lincoln Square</td>\n",
              "      <td>3.4</td>\n",
              "      <td>10.9</td>\n",
              "      <td>8.2</td>\n",
              "      <td>13.4</td>\n",
              "      <td>25.5</td>\n",
              "      <td>37524</td>\n",
              "      <td>17.0</td>\n",
              "    </tr>\n",
              "    <tr>\n",
              "      <th>4</th>\n",
              "      <td>5.0</td>\n",
              "      <td>North Center</td>\n",
              "      <td>0.3</td>\n",
              "      <td>7.5</td>\n",
              "      <td>5.2</td>\n",
              "      <td>4.5</td>\n",
              "      <td>26.2</td>\n",
              "      <td>57123</td>\n",
              "      <td>6.0</td>\n",
              "    </tr>\n",
              "  </tbody>\n",
              "</table>\n",
              "</div>"
            ],
            "text/plain": [
              "   COMMUNITY_AREA_NUMBER  ... HARDSHIP_INDEX\n",
              "0                    1.0  ...           39.0\n",
              "1                    2.0  ...           46.0\n",
              "2                    3.0  ...           20.0\n",
              "3                    4.0  ...           17.0\n",
              "4                    5.0  ...            6.0\n",
              "\n",
              "[5 rows x 9 columns]"
            ]
          },
          "metadata": {},
          "execution_count": 38
        }
      ]
    },
    {
      "cell_type": "markdown",
      "metadata": {
        "id": "Oh0JDE87m4RY"
      },
      "source": [
        "HANDLING MISSING DATA"
      ]
    },
    {
      "cell_type": "code",
      "metadata": {
        "id": "rVcQRhCEm5va"
      },
      "source": [
        "data.drop(\"COMMUNITY_AREA_NUMBER\",axis=1,inplace=True)"
      ],
      "execution_count": null,
      "outputs": []
    },
    {
      "cell_type": "code",
      "metadata": {
        "colab": {
          "base_uri": "https://localhost:8080/"
        },
        "id": "4OOUMG94ogLr",
        "outputId": "99f409a5-5dc7-4bf9-e475-a2d8eb1dcef1"
      },
      "source": [
        "data.isna().sum()"
      ],
      "execution_count": null,
      "outputs": [
        {
          "output_type": "execute_result",
          "data": {
            "text/plain": [
              "COMMUNITY_AREA_NAME                             0\n",
              "PERCENT OF HOUSING CROWDED                      0\n",
              "PERCENT HOUSEHOLDS BELOW POVERTY                0\n",
              "PERCENT AGED 16+ UNEMPLOYED                     0\n",
              "PERCENT AGED 25+ WITHOUT HIGH SCHOOL DIPLOMA    0\n",
              "PERCENT AGED UNDER 18 OR OVER 64                0\n",
              "PER_CAPITA_INCOME                               0\n",
              "HARDSHIP_INDEX                                  1\n",
              "dtype: int64"
            ]
          },
          "metadata": {},
          "execution_count": 56
        }
      ]
    },
    {
      "cell_type": "code",
      "metadata": {
        "id": "7KOR6LAror0i"
      },
      "source": [
        "data.dropna(inplace=True)"
      ],
      "execution_count": null,
      "outputs": []
    },
    {
      "cell_type": "code",
      "metadata": {
        "colab": {
          "base_uri": "https://localhost:8080/"
        },
        "id": "05cHdFMlowY-",
        "outputId": "b9c57a30-20dc-4797-d378-26066dc98183"
      },
      "source": [
        "data.isna().sum()"
      ],
      "execution_count": null,
      "outputs": [
        {
          "output_type": "execute_result",
          "data": {
            "text/plain": [
              "COMMUNITY_AREA_NAME                             0\n",
              "PERCENT OF HOUSING CROWDED                      0\n",
              "PERCENT HOUSEHOLDS BELOW POVERTY                0\n",
              "PERCENT AGED 16+ UNEMPLOYED                     0\n",
              "PERCENT AGED 25+ WITHOUT HIGH SCHOOL DIPLOMA    0\n",
              "PERCENT AGED UNDER 18 OR OVER 64                0\n",
              "PER_CAPITA_INCOME                               0\n",
              "HARDSHIP_INDEX                                  0\n",
              "dtype: int64"
            ]
          },
          "metadata": {},
          "execution_count": 58
        }
      ]
    },
    {
      "cell_type": "code",
      "metadata": {
        "colab": {
          "base_uri": "https://localhost:8080/"
        },
        "id": "VCqbF3uqo5-7",
        "outputId": "26ec20ff-6c30-4c01-d248-1921c8a7a37b"
      },
      "source": [
        "data.duplicated().sum()"
      ],
      "execution_count": null,
      "outputs": [
        {
          "output_type": "execute_result",
          "data": {
            "text/plain": [
              "0"
            ]
          },
          "metadata": {},
          "execution_count": 59
        }
      ]
    },
    {
      "cell_type": "markdown",
      "metadata": {
        "id": "viREo3VathGx"
      },
      "source": [
        "TEKS INFO DATA"
      ]
    },
    {
      "cell_type": "code",
      "metadata": {
        "colab": {
          "base_uri": "https://localhost:8080/"
        },
        "id": "vsjkopgepAv9",
        "outputId": "c5d1b2b9-6c7c-46f8-e74d-b654ff2289ad"
      },
      "source": [
        "data.info()"
      ],
      "execution_count": null,
      "outputs": [
        {
          "output_type": "stream",
          "text": [
            "<class 'pandas.core.frame.DataFrame'>\n",
            "Int64Index: 77 entries, 0 to 76\n",
            "Data columns (total 8 columns):\n",
            " #   Column                                        Non-Null Count  Dtype  \n",
            "---  ------                                        --------------  -----  \n",
            " 0   COMMUNITY_AREA_NAME                           77 non-null     object \n",
            " 1   PERCENT OF HOUSING CROWDED                    77 non-null     float64\n",
            " 2   PERCENT HOUSEHOLDS BELOW POVERTY              77 non-null     float64\n",
            " 3   PERCENT AGED 16+ UNEMPLOYED                   77 non-null     float64\n",
            " 4   PERCENT AGED 25+ WITHOUT HIGH SCHOOL DIPLOMA  77 non-null     float64\n",
            " 5   PERCENT AGED UNDER 18 OR OVER 64              77 non-null     float64\n",
            " 6   PER_CAPITA_INCOME                             77 non-null     int64  \n",
            " 7   HARDSHIP_INDEX                                77 non-null     float64\n",
            "dtypes: float64(6), int64(1), object(1)\n",
            "memory usage: 5.4+ KB\n"
          ],
          "name": "stdout"
        }
      ]
    },
    {
      "cell_type": "code",
      "metadata": {
        "id": "7FraLD6PpK6D"
      },
      "source": [
        "numerik = ['PERCENT OF HOUSING CROWDED', 'PERCENT HOUSEHOLDS BELOW POVERTY', 'PERCENT AGED 16+ UNEMPLOYED', \n",
        "           'PERCENT AGED 25+ WITHOUT HIGH SCHOOL DIPLOMA', 'PERCENT AGED UNDER 18 OR OVER 64', 'HARDSHIP_INDEX']\n",
        "kategorik = ['COMMUNITY_AREA_NAME']"
      ],
      "execution_count": null,
      "outputs": []
    },
    {
      "cell_type": "code",
      "metadata": {
        "id": "vXfCeSdCwvLl"
      },
      "source": [
        ""
      ],
      "execution_count": null,
      "outputs": []
    },
    {
      "cell_type": "markdown",
      "metadata": {
        "id": "JVtNlWzepXTX"
      },
      "source": [
        "VISUALISASI DATA"
      ]
    },
    {
      "cell_type": "code",
      "metadata": {
        "colab": {
          "base_uri": "https://localhost:8080/",
          "height": 369
        },
        "id": "6Nd5-hpspbKW",
        "outputId": "ee1ac7d6-4a2b-4561-ac85-c83616ef425f"
      },
      "source": [
        "sns.displot(data['PERCENT OF HOUSING CROWDED'],kde=True)\n",
        "plt.show()"
      ],
      "execution_count": null,
      "outputs": [
        {
          "output_type": "display_data",
          "data": {
            "image/png": "[encoded data removed]",
            "text/plain": [
              "<Figure size 360x360 with 1 Axes>"
            ]
          },
          "metadata": {
            "needs_background": "light"
          }
        }
      ]
    },
    {
      "cell_type": "code",
      "metadata": {
        "colab": {
          "base_uri": "https://localhost:8080/",
          "height": 280
        },
        "id": "Niz8itdopnE1",
        "outputId": "9a8e72eb-6ec8-4973-a8a6-b9af0c71f079"
      },
      "source": [
        "sns.countplot(x = 'COMMUNITY_AREA_NAME', data = data)\n",
        "plt.show()"
      ],
      "execution_count": null,
      "outputs": [
        {
          "output_type": "display_data",
          "data": {
            "image/png": "[encoded data removed]",
            "text/plain": [
              "<Figure size 432x288 with 1 Axes>"
            ]
          },
          "metadata": {
            "needs_background": "light"
          }
        }
      ]
    },
    {
      "cell_type": "code",
      "metadata": {
        "id": "6-KCTds_pwzJ"
      },
      "source": [
        "cek_corr = numerik\n",
        "cek_corr.append('HARDSHIP_INDEX')"
      ],
      "execution_count": null,
      "outputs": []
    },
    {
      "cell_type": "code",
      "metadata": {
        "colab": {
          "base_uri": "https://localhost:8080/",
          "height": 859
        },
        "id": "orhI-Desp61w",
        "outputId": "92bdbde3-c16b-466a-c7bb-0c33ef49782d"
      },
      "source": [
        "plt.figure(figsize=(10,10))\n",
        "sns.heatmap(data[cek_corr].corr(),annot=True,cmap='coolwarm')\n",
        "plt.show()"
      ],
      "execution_count": null,
      "outputs": [
        {
          "output_type": "display_data",
          "data": {
            "image/png": "[encoded data removed]",
            "text/plain": [
              "<Figure size 720x720 with 2 Axes>"
            ]
          },
          "metadata": {
            "needs_background": "light"
          }
        }
      ]
    },
    {
      "cell_type": "code",
      "metadata": {
        "id": "NO0UKoKAqKGE"
      },
      "source": [
        "X = pd.concat([data[numerik]],axis=1)\n",
        "Y = data['HARDSHIP_INDEX']"
      ],
      "execution_count": null,
      "outputs": []
    },
    {
      "cell_type": "markdown",
      "metadata": {
        "id": "Is58_bn3qYVK"
      },
      "source": [
        "Split Train-Test"
      ]
    },
    {
      "cell_type": "code",
      "metadata": {
        "id": "v31jn1ArqZai"
      },
      "source": [
        "from sklearn.model_selection import train_test_split"
      ],
      "execution_count": null,
      "outputs": []
    },
    {
      "cell_type": "code",
      "metadata": {
        "id": "Fo5AB93Uqf2j"
      },
      "source": [
        "X_train, X_test, y_train, y_test = train_test_split(X,Y,test_size=0.2,random_state=100)"
      ],
      "execution_count": null,
      "outputs": []
    },
    {
      "cell_type": "code",
      "metadata": {
        "colab": {
          "base_uri": "https://localhost:8080/"
        },
        "id": "YoPPFdNjqiJh",
        "outputId": "c6cc8d3b-a123-4c17-88ed-dba4c9680d8b"
      },
      "source": [
        "print(f'Banyak data train: {len(X_train)}')\n",
        "print(f'Banyak data test: {len(X_test)}')"
      ],
      "execution_count": null,
      "outputs": [
        {
          "output_type": "stream",
          "text": [
            "Banyak data train: 61\n",
            "Banyak data test: 16\n"
          ],
          "name": "stdout"
        }
      ]
    },
    {
      "cell_type": "markdown",
      "metadata": {
        "id": "5qqjxeI_qxgK"
      },
      "source": [
        "REGRESI"
      ]
    },
    {
      "cell_type": "code",
      "metadata": {
        "id": "1pwqQZQ8qytS"
      },
      "source": [
        "from sklearn.metrics import mean_squared_error\n",
        "from sklearn.metrics import r2_score\n",
        "from sklearn.metrics import mean_absolute_error"
      ],
      "execution_count": null,
      "outputs": []
    },
    {
      "cell_type": "code",
      "metadata": {
        "colab": {
          "base_uri": "https://localhost:8080/"
        },
        "id": "m_clf83Qq8zZ",
        "outputId": "30210bc7-ac1f-4363-db7a-eec3db33e53c"
      },
      "source": [
        "from sklearn.linear_model import LinearRegression\n",
        "lr = LinearRegression()\n",
        "lr.fit(X_train,y_train)\n",
        "lr_pred = lr.predict(X_test)\n",
        "print(f'MSE: {mean_squared_error(y_test,lr_pred)}')\n",
        "print(f'RMSE: {np.sqrt(mean_squared_error(y_test,lr_pred))}')\n",
        "print(f'R2: {r2_score(y_test,lr_pred)}')\n",
        "print(f'MAE: {mean_absolute_error(y_test,lr_pred)}')"
      ],
      "execution_count": null,
      "outputs": [
        {
          "output_type": "stream",
          "text": [
            "MSE: 3.140652478911153e-29\n",
            "RMSE: 5.60415245948141e-15\n",
            "R2: 1.0\n",
            "MAE: 3.83026943495679e-15\n"
          ],
          "name": "stdout"
        }
      ]
    },
    {
      "cell_type": "code",
      "metadata": {
        "colab": {
          "base_uri": "https://localhost:8080/"
        },
        "id": "myAdncdPrYTA",
        "outputId": "c9a6b274-94e6-43ae-bed8-fb77b2cd316d"
      },
      "source": [
        "from sklearn.linear_model import Ridge\n",
        "rr = Ridge()\n",
        "rr.fit(X_train,y_train)\n",
        "rr_pred = rr.predict(X_test)\n",
        "print(f'MSE: {mean_squared_error(y_test,rr_pred)}')\n",
        "print(f'RMSE: {np.sqrt(mean_squared_error(y_test,rr_pred))}')\n",
        "print(f'R2: {r2_score(y_test,rr_pred)}')\n",
        "print(f'MAE: {mean_absolute_error(y_test,rr_pred)}')"
      ],
      "execution_count": null,
      "outputs": [
        {
          "output_type": "stream",
          "text": [
            "MSE: 9.472878669713493e-06\n",
            "RMSE: 0.0030778041961296845\n",
            "R2: 0.9999999873951644\n",
            "MAE: 0.0023256903845143007\n"
          ],
          "name": "stdout"
        }
      ]
    },
    {
      "cell_type": "code",
      "metadata": {
        "colab": {
          "base_uri": "https://localhost:8080/"
        },
        "id": "4LMzzYHSrn55",
        "outputId": "74775245-ca4b-40ea-c2b1-26b60a773ef5"
      },
      "source": [
        "from sklearn.linear_model import Lasso\n",
        "ll = Lasso()\n",
        "ll.fit(X_train,y_train)\n",
        "ll_pred = ll.predict(X_test)\n",
        "print(f'MSE: {mean_squared_error(y_test,ll_pred)}')\n",
        "print(f'RMSE: {np.sqrt(mean_squared_error(y_test,ll_pred))}')\n",
        "print(f'R2: {r2_score(y_test,ll_pred)}')\n",
        "print(f'MAE: {mean_absolute_error(y_test,ll_pred)}')"
      ],
      "execution_count": null,
      "outputs": [
        {
          "output_type": "stream",
          "text": [
            "MSE: 0.001350891394491229\n",
            "RMSE: 0.03675447448258823\n",
            "R2: 0.9999982024720647\n",
            "MAE: 0.030661942189698227\n"
          ],
          "name": "stdout"
        }
      ]
    },
    {
      "cell_type": "code",
      "metadata": {
        "colab": {
          "base_uri": "https://localhost:8080/"
        },
        "id": "oy5NnON8r78K",
        "outputId": "5cfed552-9732-4bd6-cec6-93e4b4241d56"
      },
      "source": [
        "from sklearn.svm import SVR\n",
        "svr = SVR(kernel='linear')\n",
        "svr.fit(X_train,y_train)\n",
        "svr_pred = svr.predict(X_test)\n",
        "print(f'MSE: {mean_squared_error(y_test,svr_pred)}')\n",
        "print(f'RMSE: {np.sqrt(mean_squared_error(y_test,svr_pred))}')\n",
        "print(f'R2: {r2_score(y_test,svr_pred)}')\n",
        "print(f'MAE: {mean_absolute_error(y_test,svr_pred)}')"
      ],
      "execution_count": null,
      "outputs": [
        {
          "output_type": "stream",
          "text": [
            "MSE: 0.004641571456511623\n",
            "RMSE: 0.06812907937519502\n",
            "R2: 0.9999938238156002\n",
            "MAE: 0.053013814730174524\n"
          ],
          "name": "stdout"
        }
      ]
    },
    {
      "cell_type": "code",
      "metadata": {
        "colab": {
          "base_uri": "https://localhost:8080/"
        },
        "id": "kjPvcIb_sS4L",
        "outputId": "fc908867-feaf-474d-d852-f20e86cb7e9f"
      },
      "source": [
        "from sklearn.tree import DecisionTreeRegressor\n",
        "dtr = DecisionTreeRegressor()\n",
        "dtr.fit(X_train,y_train)\n",
        "dtr_pred = dtr.predict(X_test)\n",
        "print(f'MSE: {mean_squared_error(y_test,dtr_pred)}')\n",
        "print(f'RMSE: {np.sqrt(mean_squared_error(y_test,dtr_pred))}')\n",
        "print(f'R2: {r2_score(y_test,dtr_pred)}')\n",
        "print(f'MAE: {mean_absolute_error(y_test,dtr_pred)}')"
      ],
      "execution_count": null,
      "outputs": [
        {
          "output_type": "stream",
          "text": [
            "MSE: 17.5625\n",
            "RMSE: 4.190763653560053\n",
            "R2: 0.9766309234839468\n",
            "MAE: 3.0625\n"
          ],
          "name": "stdout"
        }
      ]
    },
    {
      "cell_type": "code",
      "metadata": {
        "colab": {
          "base_uri": "https://localhost:8080/"
        },
        "id": "NzIIsSjVskJF",
        "outputId": "676ce7d6-91b2-424d-a8a5-38770fffc630"
      },
      "source": [
        "from sklearn.ensemble import RandomForestRegressor\n",
        "rf = RandomForestRegressor()\n",
        "rf.fit(X_train,y_train)\n",
        "rf_pred = rf.predict(X_test)\n",
        "print(f'MSE: {mean_squared_error(y_test,rf_pred)}')\n",
        "print(f'RMSE: {np.sqrt(mean_squared_error(y_test,rf_pred))}')\n",
        "print(f'R2: {r2_score(y_test,rf_pred)}')\n",
        "print(f'MAE: {mean_absolute_error(y_test,rf_pred)}')"
      ],
      "execution_count": null,
      "outputs": [
        {
          "output_type": "stream",
          "text": [
            "MSE: 1.1189875000000002\n",
            "RMSE: 1.0578220549790027\n",
            "R2: 0.9985110488536366\n",
            "MAE: 0.79125\n"
          ],
          "name": "stdout"
        }
      ]
    },
    {
      "cell_type": "code",
      "metadata": {
        "id": "dz_8LVGSs5mu"
      },
      "source": [
        "hasil_akhir = pd.concat([pd.DataFrame(y_test).reset_index(drop=True),pd.DataFrame(rf_pred)],axis=1)\n",
        "hasil_akhir.columns = ['Real','Predicted']"
      ],
      "execution_count": null,
      "outputs": []
    },
    {
      "cell_type": "code",
      "metadata": {
        "colab": {
          "base_uri": "https://localhost:8080/",
          "height": 545
        },
        "id": "CdKmnQ28tLPf",
        "outputId": "37911c33-f74a-4b4c-d107-fa4fe6775dea"
      },
      "source": [
        "hasil_akhir"
      ],
      "execution_count": null,
      "outputs": [
        {
          "output_type": "execute_result",
          "data": {
            "text/html": [
              "<div>\n",
              "<style scoped>\n",
              "    .dataframe tbody tr th:only-of-type {\n",
              "        vertical-align: middle;\n",
              "    }\n",
              "\n",
              "    .dataframe tbody tr th {\n",
              "        vertical-align: top;\n",
              "    }\n",
              "\n",
              "    .dataframe thead th {\n",
              "        text-align: right;\n",
              "    }\n",
              "</style>\n",
              "<table border=\"1\" class=\"dataframe\">\n",
              "  <thead>\n",
              "    <tr style=\"text-align: right;\">\n",
              "      <th></th>\n",
              "      <th>Real</th>\n",
              "      <th>Predicted</th>\n",
              "    </tr>\n",
              "  </thead>\n",
              "  <tbody>\n",
              "    <tr>\n",
              "      <th>0</th>\n",
              "      <td>5.0</td>\n",
              "      <td>5.09</td>\n",
              "    </tr>\n",
              "    <tr>\n",
              "      <th>1</th>\n",
              "      <td>14.0</td>\n",
              "      <td>14.50</td>\n",
              "    </tr>\n",
              "    <tr>\n",
              "      <th>2</th>\n",
              "      <td>11.0</td>\n",
              "      <td>9.73</td>\n",
              "    </tr>\n",
              "    <tr>\n",
              "      <th>3</th>\n",
              "      <td>56.0</td>\n",
              "      <td>55.31</td>\n",
              "    </tr>\n",
              "    <tr>\n",
              "      <th>4</th>\n",
              "      <td>10.0</td>\n",
              "      <td>8.47</td>\n",
              "    </tr>\n",
              "    <tr>\n",
              "      <th>5</th>\n",
              "      <td>51.0</td>\n",
              "      <td>50.70</td>\n",
              "    </tr>\n",
              "    <tr>\n",
              "      <th>6</th>\n",
              "      <td>29.0</td>\n",
              "      <td>29.00</td>\n",
              "    </tr>\n",
              "    <tr>\n",
              "      <th>7</th>\n",
              "      <td>32.0</td>\n",
              "      <td>33.01</td>\n",
              "    </tr>\n",
              "    <tr>\n",
              "      <th>8</th>\n",
              "      <td>37.0</td>\n",
              "      <td>36.57</td>\n",
              "    </tr>\n",
              "    <tr>\n",
              "      <th>9</th>\n",
              "      <td>42.0</td>\n",
              "      <td>41.99</td>\n",
              "    </tr>\n",
              "    <tr>\n",
              "      <th>10</th>\n",
              "      <td>55.0</td>\n",
              "      <td>53.53</td>\n",
              "    </tr>\n",
              "    <tr>\n",
              "      <th>11</th>\n",
              "      <td>58.0</td>\n",
              "      <td>58.44</td>\n",
              "    </tr>\n",
              "    <tr>\n",
              "      <th>12</th>\n",
              "      <td>92.0</td>\n",
              "      <td>91.77</td>\n",
              "    </tr>\n",
              "    <tr>\n",
              "      <th>13</th>\n",
              "      <td>80.0</td>\n",
              "      <td>79.60</td>\n",
              "    </tr>\n",
              "    <tr>\n",
              "      <th>14</th>\n",
              "      <td>2.0</td>\n",
              "      <td>4.42</td>\n",
              "    </tr>\n",
              "    <tr>\n",
              "      <th>15</th>\n",
              "      <td>79.0</td>\n",
              "      <td>77.13</td>\n",
              "    </tr>\n",
              "  </tbody>\n",
              "</table>\n",
              "</div>"
            ],
            "text/plain": [
              "    Real  Predicted\n",
              "0    5.0       5.09\n",
              "1   14.0      14.50\n",
              "2   11.0       9.73\n",
              "3   56.0      55.31\n",
              "4   10.0       8.47\n",
              "5   51.0      50.70\n",
              "6   29.0      29.00\n",
              "7   32.0      33.01\n",
              "8   37.0      36.57\n",
              "9   42.0      41.99\n",
              "10  55.0      53.53\n",
              "11  58.0      58.44\n",
              "12  92.0      91.77\n",
              "13  80.0      79.60\n",
              "14   2.0       4.42\n",
              "15  79.0      77.13"
            ]
          },
          "metadata": {},
          "execution_count": 83
        }
      ]
    },
    {
      "cell_type": "code",
      "metadata": {
        "id": "t4g_VczgtloA"
      },
      "source": [
        "from sklearn.model_selection import cross_val_score"
      ],
      "execution_count": null,
      "outputs": []
    },
    {
      "cell_type": "code",
      "metadata": {
        "colab": {
          "base_uri": "https://localhost:8080/"
        },
        "id": "mbIm9TF0t5Pg",
        "outputId": "4cee39c0-2964-420c-ed07-e7866e4882f0"
      },
      "source": [
        "cross_val_score(lr, X_test, y_test, cv = 5)"
      ],
      "execution_count": null,
      "outputs": [
        {
          "output_type": "execute_result",
          "data": {
            "text/plain": [
              "array([1., 1., 1., 1., 1.])"
            ]
          },
          "metadata": {},
          "execution_count": 87
        }
      ]
    },
    {
      "cell_type": "markdown",
      "metadata": {
        "id": "-dJRB3qTuF8R"
      },
      "source": [
        "KLASIFIKASI"
      ]
    },
    {
      "cell_type": "code",
      "metadata": {
        "id": "tQaT1uGHuHhi"
      },
      "source": [
        "from sklearn.svm import SVC\n",
        "from sklearn.tree import DecisionTreeClassifier\n",
        "from sklearn.ensemble import RandomForestClassifier"
      ],
      "execution_count": null,
      "outputs": []
    },
    {
      "cell_type": "code",
      "metadata": {
        "id": "WFu4q_GMuPqQ"
      },
      "source": [
        "svc = SVC()\n",
        "dtc = DecisionTreeClassifier()\n",
        "rfc = RandomForestClassifier()"
      ],
      "execution_count": null,
      "outputs": []
    },
    {
      "cell_type": "code",
      "metadata": {
        "colab": {
          "base_uri": "https://localhost:8080/"
        },
        "id": "obO7B7BOui3t",
        "outputId": "b0516963-bd38-4ac2-adef-31770f352e90"
      },
      "source": [
        "svc.fit(X_train,y_train.values.ravel())\n",
        "dtc.fit(X_train,y_train)\n",
        "rfc.fit(X_train,y_train.values.ravel())"
      ],
      "execution_count": null,
      "outputs": [
        {
          "output_type": "execute_result",
          "data": {
            "text/plain": [
              "RandomForestClassifier(bootstrap=True, ccp_alpha=0.0, class_weight=None,\n",
              "                       criterion='gini', max_depth=None, max_features='auto',\n",
              "                       max_leaf_nodes=None, max_samples=None,\n",
              "                       min_impurity_decrease=0.0, min_impurity_split=None,\n",
              "                       min_samples_leaf=1, min_samples_split=2,\n",
              "                       min_weight_fraction_leaf=0.0, n_estimators=100,\n",
              "                       n_jobs=None, oob_score=False, random_state=None,\n",
              "                       verbose=0, warm_start=False)"
            ]
          },
          "metadata": {},
          "execution_count": 92
        }
      ]
    },
    {
      "cell_type": "code",
      "metadata": {
        "id": "JWBCaCjJusa8"
      },
      "source": [
        "svc_pred = svc.predict(X_test)"
      ],
      "execution_count": null,
      "outputs": []
    },
    {
      "cell_type": "code",
      "metadata": {
        "id": "doOusVPKuznI"
      },
      "source": [
        "from sklearn.metrics import accuracy_score"
      ],
      "execution_count": null,
      "outputs": []
    },
    {
      "cell_type": "code",
      "metadata": {
        "colab": {
          "base_uri": "https://localhost:8080/"
        },
        "id": "MzF5HaRtu3Y0",
        "outputId": "50349268-065b-4f88-ba8b-64ec2ea24a91"
      },
      "source": [
        "accuracy_score(y_test,svc_pred)"
      ],
      "execution_count": null,
      "outputs": [
        {
          "output_type": "execute_result",
          "data": {
            "text/plain": [
              "0.0"
            ]
          },
          "metadata": {},
          "execution_count": 95
        }
      ]
    },
    {
      "cell_type": "code",
      "metadata": {
        "id": "XWsXuWp7u7xA"
      },
      "source": [
        "from sklearn.metrics import confusion_matrix"
      ],
      "execution_count": null,
      "outputs": []
    },
    {
      "cell_type": "code",
      "metadata": {
        "id": "j87_43uZvAx7"
      },
      "source": [
        "cm = confusion_matrix(y_test,svc_pred)"
      ],
      "execution_count": null,
      "outputs": []
    },
    {
      "cell_type": "code",
      "metadata": {
        "colab": {
          "base_uri": "https://localhost:8080/"
        },
        "id": "MtSrPajJvG8t",
        "outputId": "15ca31c1-fcc2-4eb2-ece6-abf3aa451753"
      },
      "source": [
        "cm"
      ],
      "execution_count": null,
      "outputs": [
        {
          "output_type": "execute_result",
          "data": {
            "text/plain": [
              "array([[0, 0, 0, 0, 0, 0, 0, 0, 0, 0, 0, 0, 0, 0, 0, 0, 0, 0, 0, 0, 0, 0,\n",
              "        0, 0, 0, 0, 0, 0, 0],\n",
              "       [1, 0, 0, 0, 0, 0, 0, 0, 0, 0, 0, 0, 0, 0, 0, 0, 0, 0, 0, 0, 0, 0,\n",
              "        0, 0, 0, 0, 0, 0, 0],\n",
              "       [0, 0, 0, 0, 0, 0, 0, 0, 0, 0, 0, 0, 0, 0, 0, 0, 0, 0, 0, 0, 0, 0,\n",
              "        0, 0, 0, 0, 0, 0, 0],\n",
              "       [0, 0, 1, 0, 0, 0, 0, 0, 0, 0, 0, 0, 0, 0, 0, 0, 0, 0, 0, 0, 0, 0,\n",
              "        0, 0, 0, 0, 0, 0, 0],\n",
              "       [0, 0, 0, 0, 0, 0, 0, 0, 0, 0, 0, 0, 0, 0, 0, 0, 0, 0, 0, 0, 0, 0,\n",
              "        0, 0, 0, 0, 0, 0, 0],\n",
              "       [0, 0, 0, 0, 1, 0, 0, 0, 0, 0, 0, 0, 0, 0, 0, 0, 0, 0, 0, 0, 0, 0,\n",
              "        0, 0, 0, 0, 0, 0, 0],\n",
              "       [0, 0, 0, 0, 0, 0, 0, 1, 0, 0, 0, 0, 0, 0, 0, 0, 0, 0, 0, 0, 0, 0,\n",
              "        0, 0, 0, 0, 0, 0, 0],\n",
              "       [0, 0, 0, 0, 0, 0, 0, 0, 0, 0, 0, 0, 0, 0, 0, 0, 0, 0, 0, 0, 0, 0,\n",
              "        0, 0, 0, 0, 0, 0, 0],\n",
              "       [0, 0, 0, 0, 0, 0, 0, 0, 0, 1, 0, 0, 0, 0, 0, 0, 0, 0, 0, 0, 0, 0,\n",
              "        0, 0, 0, 0, 0, 0, 0],\n",
              "       [0, 0, 0, 0, 0, 0, 0, 0, 0, 0, 0, 0, 0, 0, 0, 0, 0, 0, 0, 0, 0, 0,\n",
              "        0, 0, 0, 0, 0, 0, 0],\n",
              "       [0, 0, 0, 0, 0, 0, 0, 0, 0, 0, 0, 0, 0, 0, 0, 0, 0, 0, 0, 0, 0, 0,\n",
              "        0, 0, 0, 0, 0, 0, 0],\n",
              "       [0, 0, 0, 0, 0, 0, 0, 0, 0, 0, 1, 0, 0, 0, 0, 0, 0, 0, 0, 0, 0, 0,\n",
              "        0, 0, 0, 0, 0, 0, 0],\n",
              "       [0, 0, 0, 0, 0, 0, 0, 0, 0, 0, 0, 0, 0, 1, 0, 0, 0, 0, 0, 0, 0, 0,\n",
              "        0, 0, 0, 0, 0, 0, 0],\n",
              "       [0, 0, 0, 0, 0, 0, 0, 0, 0, 0, 0, 0, 0, 0, 0, 0, 0, 0, 0, 0, 0, 0,\n",
              "        0, 0, 0, 0, 0, 0, 0],\n",
              "       [0, 0, 0, 0, 0, 0, 0, 0, 0, 0, 0, 0, 0, 1, 0, 0, 0, 0, 0, 0, 0, 0,\n",
              "        0, 0, 0, 0, 0, 0, 0],\n",
              "       [0, 0, 0, 0, 0, 0, 0, 0, 0, 0, 0, 0, 0, 0, 0, 0, 1, 0, 0, 0, 0, 0,\n",
              "        0, 0, 0, 0, 0, 0, 0],\n",
              "       [0, 0, 0, 0, 0, 0, 0, 0, 0, 0, 0, 0, 0, 0, 0, 0, 0, 0, 0, 0, 0, 0,\n",
              "        0, 0, 0, 0, 0, 0, 0],\n",
              "       [0, 0, 0, 0, 0, 0, 0, 0, 0, 0, 0, 0, 0, 0, 0, 0, 0, 0, 1, 0, 0, 0,\n",
              "        0, 0, 0, 0, 0, 0, 0],\n",
              "       [0, 0, 0, 0, 0, 0, 0, 0, 0, 0, 0, 0, 0, 0, 0, 0, 0, 0, 0, 0, 0, 0,\n",
              "        0, 0, 0, 0, 0, 0, 0],\n",
              "       [0, 0, 0, 0, 0, 0, 0, 0, 0, 0, 0, 0, 0, 0, 0, 0, 0, 0, 0, 0, 0, 1,\n",
              "        0, 0, 0, 0, 0, 0, 0],\n",
              "       [0, 0, 0, 0, 0, 0, 0, 0, 0, 0, 0, 0, 0, 0, 0, 0, 0, 0, 0, 0, 0, 0,\n",
              "        0, 1, 0, 0, 0, 0, 0],\n",
              "       [0, 0, 0, 0, 0, 0, 0, 0, 0, 0, 0, 0, 0, 0, 0, 0, 0, 0, 0, 0, 0, 0,\n",
              "        0, 0, 0, 0, 0, 0, 0],\n",
              "       [0, 0, 0, 0, 0, 0, 0, 0, 0, 0, 0, 0, 0, 0, 0, 0, 0, 0, 0, 0, 0, 1,\n",
              "        0, 0, 0, 0, 0, 0, 0],\n",
              "       [0, 0, 0, 0, 0, 0, 0, 0, 0, 0, 0, 0, 0, 0, 0, 0, 0, 0, 0, 0, 0, 0,\n",
              "        0, 0, 0, 0, 0, 0, 0],\n",
              "       [0, 0, 0, 0, 0, 0, 0, 0, 0, 0, 0, 0, 0, 0, 0, 0, 0, 0, 0, 0, 0, 0,\n",
              "        0, 0, 0, 0, 0, 0, 0],\n",
              "       [0, 0, 0, 0, 0, 0, 0, 0, 0, 0, 0, 0, 0, 0, 0, 0, 0, 0, 0, 0, 0, 0,\n",
              "        0, 0, 1, 0, 0, 0, 0],\n",
              "       [0, 0, 0, 0, 0, 0, 0, 0, 0, 0, 0, 0, 0, 0, 0, 0, 0, 0, 0, 0, 0, 0,\n",
              "        0, 0, 1, 0, 0, 0, 0],\n",
              "       [0, 0, 0, 0, 0, 0, 0, 0, 0, 0, 0, 0, 0, 0, 0, 0, 0, 0, 0, 0, 0, 0,\n",
              "        0, 0, 0, 0, 0, 0, 0],\n",
              "       [0, 0, 0, 0, 0, 0, 0, 0, 0, 0, 0, 0, 0, 0, 0, 0, 0, 0, 0, 0, 0, 0,\n",
              "        0, 0, 0, 0, 0, 1, 0]])"
            ]
          },
          "metadata": {},
          "execution_count": 98
        }
      ]
    },
    {
      "cell_type": "code",
      "metadata": {
        "colab": {
          "base_uri": "https://localhost:8080/",
          "height": 300
        },
        "id": "jRHcwCNivJK5",
        "outputId": "4a0229d9-c221-4946-cf6c-528b8746d37c"
      },
      "source": [
        "sns.heatmap(cm,annot=True,cmap='coolwarm')\n",
        "plt.xlabel('Predicted')\n",
        "plt.ylabel('Actual')"
      ],
      "execution_count": null,
      "outputs": [
        {
          "output_type": "execute_result",
          "data": {
            "text/plain": [
              "Text(33.0, 0.5, 'Actual')"
            ]
          },
          "metadata": {},
          "execution_count": 99
        },
        {
          "output_type": "display_data",
          "data": {
            "image/png": "[encoded data removed]",
            "text/plain": [
              "<Figure size 432x288 with 2 Axes>"
            ]
          },
          "metadata": {
            "needs_background": "light"
          }
        }
      ]
    },
    {
      "cell_type": "code",
      "metadata": {
        "id": "wy7aSeXvvSuZ"
      },
      "source": [
        "from sklearn.metrics import classification_report"
      ],
      "execution_count": null,
      "outputs": []
    },
    {
      "cell_type": "code",
      "metadata": {
        "colab": {
          "base_uri": "https://localhost:8080/"
        },
        "id": "Xn18nmENvXld",
        "outputId": "cee5cc1b-41ed-4022-a8aa-b8fb908037de"
      },
      "source": [
        "print(classification_report(y_test,svc_pred))"
      ],
      "execution_count": null,
      "outputs": [
        {
          "output_type": "stream",
          "text": [
            "              precision    recall  f1-score   support\n",
            "\n",
            "         1.0       0.00      0.00      0.00       0.0\n",
            "         2.0       0.00      0.00      0.00       1.0\n",
            "         3.0       0.00      0.00      0.00       0.0\n",
            "         5.0       0.00      0.00      0.00       1.0\n",
            "         7.0       0.00      0.00      0.00       0.0\n",
            "        10.0       0.00      0.00      0.00       1.0\n",
            "        11.0       0.00      0.00      0.00       1.0\n",
            "        12.0       0.00      0.00      0.00       0.0\n",
            "        14.0       0.00      0.00      0.00       1.0\n",
            "        15.0       0.00      0.00      0.00       0.0\n",
            "        28.0       0.00      0.00      0.00       0.0\n",
            "        29.0       0.00      0.00      0.00       1.0\n",
            "        32.0       0.00      0.00      0.00       1.0\n",
            "        35.0       0.00      0.00      0.00       0.0\n",
            "        37.0       0.00      0.00      0.00       1.0\n",
            "        42.0       0.00      0.00      0.00       1.0\n",
            "        43.0       0.00      0.00      0.00       0.0\n",
            "        51.0       0.00      0.00      0.00       1.0\n",
            "        52.0       0.00      0.00      0.00       0.0\n",
            "        55.0       0.00      0.00      0.00       1.0\n",
            "        56.0       0.00      0.00      0.00       1.0\n",
            "        57.0       0.00      0.00      0.00       0.0\n",
            "        58.0       0.00      0.00      0.00       1.0\n",
            "        61.0       0.00      0.00      0.00       0.0\n",
            "        75.0       0.00      0.00      0.00       0.0\n",
            "        79.0       0.00      0.00      0.00       1.0\n",
            "        80.0       0.00      0.00      0.00       1.0\n",
            "        88.0       0.00      0.00      0.00       0.0\n",
            "        92.0       0.00      0.00      0.00       1.0\n",
            "\n",
            "    accuracy                           0.00      16.0\n",
            "   macro avg       0.00      0.00      0.00      16.0\n",
            "weighted avg       0.00      0.00      0.00      16.0\n",
            "\n"
          ],
          "name": "stdout"
        },
        {
          "output_type": "stream",
          "text": [
            "/usr/local/lib/python3.7/dist-packages/sklearn/metrics/_classification.py:1272: UndefinedMetricWarning: Precision and F-score are ill-defined and being set to 0.0 in labels with no predicted samples. Use `zero_division` parameter to control this behavior.\n",
            "  _warn_prf(average, modifier, msg_start, len(result))\n",
            "/usr/local/lib/python3.7/dist-packages/sklearn/metrics/_classification.py:1272: UndefinedMetricWarning: Recall and F-score are ill-defined and being set to 0.0 in labels with no true samples. Use `zero_division` parameter to control this behavior.\n",
            "  _warn_prf(average, modifier, msg_start, len(result))\n"
          ],
          "name": "stderr"
        }
      ]
    },
    {
      "cell_type": "code",
      "metadata": {
        "id": "MIaE0kYgvcx1"
      },
      "source": [
        "from sklearn.datasets import make_classification"
      ],
      "execution_count": null,
      "outputs": []
    },
    {
      "cell_type": "code",
      "metadata": {
        "id": "-4UbZu9TviBo"
      },
      "source": [
        "X,y = make_classification(n_samples=100, random_state=0)"
      ],
      "execution_count": null,
      "outputs": []
    },
    {
      "cell_type": "code",
      "metadata": {
        "colab": {
          "base_uri": "https://localhost:8080/"
        },
        "id": "tlPS99BavmK3",
        "outputId": "971f9e08-1138-45b7-fd94-1de4b3f0f73e"
      },
      "source": [
        "(X,y)"
      ],
      "execution_count": null,
      "outputs": [
        {
          "output_type": "execute_result",
          "data": {
            "text/plain": [
              "(array([[-0.03926799,  0.13191176, -0.21120598, ...,  1.97698901,\n",
              "          1.02122474, -0.46931074],\n",
              "        [ 0.77416061,  0.10490717, -0.33281176, ...,  1.2678044 ,\n",
              "          0.62251914, -1.49026539],\n",
              "        [-0.0148577 ,  0.67057045, -0.21416666, ..., -0.10486202,\n",
              "         -0.10169727, -0.45130304],\n",
              "        ...,\n",
              "        [ 0.29673317, -0.49610233, -0.86404499, ..., -1.10453952,\n",
              "          2.01406015,  0.69042902],\n",
              "        [ 0.08617684,  0.9836362 ,  0.17124355, ...,  2.11564734,\n",
              "          0.11273794,  1.20985013],\n",
              "        [-1.58249448, -1.42279491, -0.56430103, ...,  1.26661394,\n",
              "         -1.31771734,  1.61805427]]),\n",
              " array([0, 0, 1, 1, 1, 0, 0, 0, 1, 1, 0, 0, 1, 0, 1, 1, 1, 1, 0, 1, 1, 1,\n",
              "        0, 0, 0, 1, 1, 1, 0, 1, 1, 0, 0, 1, 1, 1, 0, 1, 1, 0, 1, 0, 1, 0,\n",
              "        0, 0, 1, 0, 0, 1, 1, 1, 0, 1, 1, 0, 0, 0, 1, 0, 0, 1, 0, 0, 0, 1,\n",
              "        1, 1, 0, 0, 1, 0, 1, 0, 1, 0, 0, 1, 0, 0, 0, 0, 0, 1, 0, 0, 1, 1,\n",
              "        0, 1, 1, 0, 0, 1, 0, 1, 1, 1, 1, 0]))"
            ]
          },
          "metadata": {},
          "execution_count": 104
        }
      ]
    },
    {
      "cell_type": "code",
      "metadata": {
        "id": "jfXP2iirvr35"
      },
      "source": [
        "from sklearn.neural_network import MLPClassifier"
      ],
      "execution_count": null,
      "outputs": []
    },
    {
      "cell_type": "code",
      "metadata": {
        "id": "DjMowPNBvxyH"
      },
      "source": [
        "clf = MLPClassifier()"
      ],
      "execution_count": null,
      "outputs": []
    },
    {
      "cell_type": "code",
      "metadata": {
        "colab": {
          "base_uri": "https://localhost:8080/"
        },
        "id": "Y65zp1Dyv2Mz",
        "outputId": "f1fb4e2d-4d58-461d-876a-cf0cafb9f008"
      },
      "source": [
        "clf.fit(X_train,y_train)"
      ],
      "execution_count": null,
      "outputs": [
        {
          "output_type": "stream",
          "text": [
            "/usr/local/lib/python3.7/dist-packages/sklearn/neural_network/_multilayer_perceptron.py:571: ConvergenceWarning: Stochastic Optimizer: Maximum iterations (200) reached and the optimization hasn't converged yet.\n",
            "  % self.max_iter, ConvergenceWarning)\n"
          ],
          "name": "stderr"
        },
        {
          "output_type": "execute_result",
          "data": {
            "text/plain": [
              "MLPClassifier(activation='relu', alpha=0.0001, batch_size='auto', beta_1=0.9,\n",
              "              beta_2=0.999, early_stopping=False, epsilon=1e-08,\n",
              "              hidden_layer_sizes=(100,), learning_rate='constant',\n",
              "              learning_rate_init=0.001, max_fun=15000, max_iter=200,\n",
              "              momentum=0.9, n_iter_no_change=10, nesterovs_momentum=True,\n",
              "              power_t=0.5, random_state=None, shuffle=True, solver='adam',\n",
              "              tol=0.0001, validation_fraction=0.1, verbose=False,\n",
              "              warm_start=False)"
            ]
          },
          "metadata": {},
          "execution_count": 107
        }
      ]
    },
    {
      "cell_type": "code",
      "metadata": {
        "colab": {
          "base_uri": "https://localhost:8080/"
        },
        "id": "iAHLmosgv7ir",
        "outputId": "04d35945-a27b-4e20-b15f-96e14984b4bb"
      },
      "source": [
        "y_pred = clf.predict(X_test)\n",
        "y_pred"
      ],
      "execution_count": null,
      "outputs": [
        {
          "output_type": "execute_result",
          "data": {
            "text/plain": [
              "array([ 1., 26., 12., 34.,  7., 60., 28., 25., 35., 34., 47., 57., 88.,\n",
              "       73.,  1., 73.])"
            ]
          },
          "metadata": {},
          "execution_count": 108
        }
      ]
    },
    {
      "cell_type": "markdown",
      "metadata": {
        "id": "f82z5zfTwH0n"
      },
      "source": [
        "CLUSTERING"
      ]
    },
    {
      "cell_type": "code",
      "metadata": {
        "colab": {
          "base_uri": "https://localhost:8080/"
        },
        "id": "bCKCnkwKwI63",
        "outputId": "a0c21d10-6b57-43ed-c2db-f1b19c130d96"
      },
      "source": [
        "X"
      ],
      "execution_count": null,
      "outputs": [
        {
          "output_type": "execute_result",
          "data": {
            "text/plain": [
              "array([[-0.03926799,  0.13191176, -0.21120598, ...,  1.97698901,\n",
              "         1.02122474, -0.46931074],\n",
              "       [ 0.77416061,  0.10490717, -0.33281176, ...,  1.2678044 ,\n",
              "         0.62251914, -1.49026539],\n",
              "       [-0.0148577 ,  0.67057045, -0.21416666, ..., -0.10486202,\n",
              "        -0.10169727, -0.45130304],\n",
              "       ...,\n",
              "       [ 0.29673317, -0.49610233, -0.86404499, ..., -1.10453952,\n",
              "         2.01406015,  0.69042902],\n",
              "       [ 0.08617684,  0.9836362 ,  0.17124355, ...,  2.11564734,\n",
              "         0.11273794,  1.20985013],\n",
              "       [-1.58249448, -1.42279491, -0.56430103, ...,  1.26661394,\n",
              "        -1.31771734,  1.61805427]])"
            ]
          },
          "metadata": {},
          "execution_count": 109
        }
      ]
    },
    {
      "cell_type": "code",
      "metadata": {
        "id": "tpSD62BfwJIR"
      },
      "source": [
        "from sklearn.cluster import KMeans, AgglomerativeClustering"
      ],
      "execution_count": null,
      "outputs": []
    },
    {
      "cell_type": "code",
      "metadata": {
        "id": "JdbSmk8TwUya"
      },
      "source": [
        "elbow = []\n",
        "for i in range(2,20) : kmeans = KMeans(n_clusters=i)\n",
        "kmeans.fit(X)\n",
        "elbow.append(kmeans.inertia_)"
      ],
      "execution_count": null,
      "outputs": []
    },
    {
      "cell_type": "code",
      "metadata": {
        "colab": {
          "base_uri": "https://localhost:8080/",
          "height": 609
        },
        "id": "8l3o08oNw9z1",
        "outputId": "e6bd9427-738a-4271-af13-574215294629"
      },
      "source": [
        "plt.plot(range(2,20),elbow,'bo-')\n",
        "plt.xlabel('Banyak cluster')\n",
        "plt.ylabel('WCSS')\n",
        "plt.show()"
      ],
      "execution_count": null,
      "outputs": [
        {
          "output_type": "error",
          "ename": "ValueError",
          "evalue": "ignored",
          "traceback": [
            "\u001b[0;31m---------------------------------------------------------------------------\u001b[0m",
            "\u001b[0;31mValueError\u001b[0m                                Traceback (most recent call last)",
            "\u001b[0;32m<ipython-input-123-c22549d1695e>\u001b[0m in \u001b[0;36m<module>\u001b[0;34m()\u001b[0m\n\u001b[0;32m----> 1\u001b[0;31m \u001b[0mplt\u001b[0m\u001b[0;34m.\u001b[0m\u001b[0mplot\u001b[0m\u001b[0;34m(\u001b[0m\u001b[0mrange\u001b[0m\u001b[0;34m(\u001b[0m\u001b[0;36m2\u001b[0m\u001b[0;34m,\u001b[0m\u001b[0;36m20\u001b[0m\u001b[0;34m)\u001b[0m\u001b[0;34m,\u001b[0m\u001b[0melbow\u001b[0m\u001b[0;34m,\u001b[0m\u001b[0;34m'bo-'\u001b[0m\u001b[0;34m)\u001b[0m\u001b[0;34m\u001b[0m\u001b[0;34m\u001b[0m\u001b[0m\n\u001b[0m\u001b[1;32m      2\u001b[0m \u001b[0mplt\u001b[0m\u001b[0;34m.\u001b[0m\u001b[0mxlabel\u001b[0m\u001b[0;34m(\u001b[0m\u001b[0;34m'Banyak cluster'\u001b[0m\u001b[0;34m)\u001b[0m\u001b[0;34m\u001b[0m\u001b[0;34m\u001b[0m\u001b[0m\n\u001b[1;32m      3\u001b[0m \u001b[0mplt\u001b[0m\u001b[0;34m.\u001b[0m\u001b[0mylabel\u001b[0m\u001b[0;34m(\u001b[0m\u001b[0;34m'WCSS'\u001b[0m\u001b[0;34m)\u001b[0m\u001b[0;34m\u001b[0m\u001b[0;34m\u001b[0m\u001b[0m\n\u001b[1;32m      4\u001b[0m \u001b[0mplt\u001b[0m\u001b[0;34m.\u001b[0m\u001b[0mshow\u001b[0m\u001b[0;34m(\u001b[0m\u001b[0;34m)\u001b[0m\u001b[0;34m\u001b[0m\u001b[0;34m\u001b[0m\u001b[0m\n",
            "\u001b[0;32m/usr/local/lib/python3.7/dist-packages/matplotlib/pyplot.py\u001b[0m in \u001b[0;36mplot\u001b[0;34m(scalex, scaley, data, *args, **kwargs)\u001b[0m\n\u001b[1;32m   2761\u001b[0m     return gca().plot(\n\u001b[1;32m   2762\u001b[0m         *args, scalex=scalex, scaley=scaley, **({\"data\": data} if data\n\u001b[0;32m-> 2763\u001b[0;31m         is not None else {}), **kwargs)\n\u001b[0m\u001b[1;32m   2764\u001b[0m \u001b[0;34m\u001b[0m\u001b[0m\n\u001b[1;32m   2765\u001b[0m \u001b[0;34m\u001b[0m\u001b[0m\n",
            "\u001b[0;32m/usr/local/lib/python3.7/dist-packages/matplotlib/axes/_axes.py\u001b[0m in \u001b[0;36mplot\u001b[0;34m(self, scalex, scaley, data, *args, **kwargs)\u001b[0m\n\u001b[1;32m   1645\u001b[0m         \"\"\"\n\u001b[1;32m   1646\u001b[0m         \u001b[0mkwargs\u001b[0m \u001b[0;34m=\u001b[0m \u001b[0mcbook\u001b[0m\u001b[0;34m.\u001b[0m\u001b[0mnormalize_kwargs\u001b[0m\u001b[0;34m(\u001b[0m\u001b[0mkwargs\u001b[0m\u001b[0;34m,\u001b[0m \u001b[0mmlines\u001b[0m\u001b[0;34m.\u001b[0m\u001b[0mLine2D\u001b[0m\u001b[0;34m)\u001b[0m\u001b[0;34m\u001b[0m\u001b[0;34m\u001b[0m\u001b[0m\n\u001b[0;32m-> 1647\u001b[0;31m         \u001b[0mlines\u001b[0m \u001b[0;34m=\u001b[0m \u001b[0;34m[\u001b[0m\u001b[0;34m*\u001b[0m\u001b[0mself\u001b[0m\u001b[0;34m.\u001b[0m\u001b[0m_get_lines\u001b[0m\u001b[0;34m(\u001b[0m\u001b[0;34m*\u001b[0m\u001b[0margs\u001b[0m\u001b[0;34m,\u001b[0m \u001b[0mdata\u001b[0m\u001b[0;34m=\u001b[0m\u001b[0mdata\u001b[0m\u001b[0;34m,\u001b[0m \u001b[0;34m**\u001b[0m\u001b[0mkwargs\u001b[0m\u001b[0;34m)\u001b[0m\u001b[0;34m]\u001b[0m\u001b[0;34m\u001b[0m\u001b[0;34m\u001b[0m\u001b[0m\n\u001b[0m\u001b[1;32m   1648\u001b[0m         \u001b[0;32mfor\u001b[0m \u001b[0mline\u001b[0m \u001b[0;32min\u001b[0m \u001b[0mlines\u001b[0m\u001b[0;34m:\u001b[0m\u001b[0;34m\u001b[0m\u001b[0;34m\u001b[0m\u001b[0m\n\u001b[1;32m   1649\u001b[0m             \u001b[0mself\u001b[0m\u001b[0;34m.\u001b[0m\u001b[0madd_line\u001b[0m\u001b[0;34m(\u001b[0m\u001b[0mline\u001b[0m\u001b[0;34m)\u001b[0m\u001b[0;34m\u001b[0m\u001b[0;34m\u001b[0m\u001b[0m\n",
            "\u001b[0;32m/usr/local/lib/python3.7/dist-packages/matplotlib/axes/_base.py\u001b[0m in \u001b[0;36m__call__\u001b[0;34m(self, *args, **kwargs)\u001b[0m\n\u001b[1;32m    214\u001b[0m                 \u001b[0mthis\u001b[0m \u001b[0;34m+=\u001b[0m \u001b[0margs\u001b[0m\u001b[0;34m[\u001b[0m\u001b[0;36m0\u001b[0m\u001b[0;34m]\u001b[0m\u001b[0;34m,\u001b[0m\u001b[0;34m\u001b[0m\u001b[0;34m\u001b[0m\u001b[0m\n\u001b[1;32m    215\u001b[0m                 \u001b[0margs\u001b[0m \u001b[0;34m=\u001b[0m \u001b[0margs\u001b[0m\u001b[0;34m[\u001b[0m\u001b[0;36m1\u001b[0m\u001b[0;34m:\u001b[0m\u001b[0;34m]\u001b[0m\u001b[0;34m\u001b[0m\u001b[0;34m\u001b[0m\u001b[0m\n\u001b[0;32m--> 216\u001b[0;31m             \u001b[0;32myield\u001b[0m \u001b[0;32mfrom\u001b[0m \u001b[0mself\u001b[0m\u001b[0;34m.\u001b[0m\u001b[0m_plot_args\u001b[0m\u001b[0;34m(\u001b[0m\u001b[0mthis\u001b[0m\u001b[0;34m,\u001b[0m \u001b[0mkwargs\u001b[0m\u001b[0;34m)\u001b[0m\u001b[0;34m\u001b[0m\u001b[0;34m\u001b[0m\u001b[0m\n\u001b[0m\u001b[1;32m    217\u001b[0m \u001b[0;34m\u001b[0m\u001b[0m\n\u001b[1;32m    218\u001b[0m     \u001b[0;32mdef\u001b[0m \u001b[0mget_next_color\u001b[0m\u001b[0;34m(\u001b[0m\u001b[0mself\u001b[0m\u001b[0;34m)\u001b[0m\u001b[0;34m:\u001b[0m\u001b[0;34m\u001b[0m\u001b[0;34m\u001b[0m\u001b[0m\n",
            "\u001b[0;32m/usr/local/lib/python3.7/dist-packages/matplotlib/axes/_base.py\u001b[0m in \u001b[0;36m_plot_args\u001b[0;34m(self, tup, kwargs)\u001b[0m\n\u001b[1;32m    340\u001b[0m \u001b[0;34m\u001b[0m\u001b[0m\n\u001b[1;32m    341\u001b[0m         \u001b[0;32mif\u001b[0m \u001b[0mx\u001b[0m\u001b[0;34m.\u001b[0m\u001b[0mshape\u001b[0m\u001b[0;34m[\u001b[0m\u001b[0;36m0\u001b[0m\u001b[0;34m]\u001b[0m \u001b[0;34m!=\u001b[0m \u001b[0my\u001b[0m\u001b[0;34m.\u001b[0m\u001b[0mshape\u001b[0m\u001b[0;34m[\u001b[0m\u001b[0;36m0\u001b[0m\u001b[0;34m]\u001b[0m\u001b[0;34m:\u001b[0m\u001b[0;34m\u001b[0m\u001b[0;34m\u001b[0m\u001b[0m\n\u001b[0;32m--> 342\u001b[0;31m             raise ValueError(f\"x and y must have same first dimension, but \"\n\u001b[0m\u001b[1;32m    343\u001b[0m                              f\"have shapes {x.shape} and {y.shape}\")\n\u001b[1;32m    344\u001b[0m         \u001b[0;32mif\u001b[0m \u001b[0mx\u001b[0m\u001b[0;34m.\u001b[0m\u001b[0mndim\u001b[0m \u001b[0;34m>\u001b[0m \u001b[0;36m2\u001b[0m \u001b[0;32mor\u001b[0m \u001b[0my\u001b[0m\u001b[0;34m.\u001b[0m\u001b[0mndim\u001b[0m \u001b[0;34m>\u001b[0m \u001b[0;36m2\u001b[0m\u001b[0;34m:\u001b[0m\u001b[0;34m\u001b[0m\u001b[0;34m\u001b[0m\u001b[0m\n",
            "\u001b[0;31mValueError\u001b[0m: x and y must have same first dimension, but have shapes (18,) and (1,)"
          ]
        },
        {
          "output_type": "display_data",
          "data": {
            "image/png": "[encoded data removed]",
            "text/plain": [
              "<Figure size 432x288 with 1 Axes>"
            ]
          },
          "metadata": {
            "needs_background": "light"
          }
        }
      ]
    },
    {
      "cell_type": "code",
      "metadata": {
        "colab": {
          "base_uri": "https://localhost:8080/"
        },
        "id": "uOtBa7syEzsu",
        "outputId": "e63fd506-12f5-4d6b-9646-a1ba848ef807"
      },
      "source": [
        "kmeans = KMeans(n_clusters=8)\n",
        "kmeans.fit(X)"
      ],
      "execution_count": null,
      "outputs": [
        {
          "output_type": "execute_result",
          "data": {
            "text/plain": [
              "KMeans(algorithm='auto', copy_x=True, init='k-means++', max_iter=300,\n",
              "       n_clusters=8, n_init=10, n_jobs=None, precompute_distances='auto',\n",
              "       random_state=None, tol=0.0001, verbose=0)"
            ]
          },
          "metadata": {},
          "execution_count": 124
        }
      ]
    },
    {
      "cell_type": "code",
      "metadata": {
        "colab": {
          "base_uri": "https://localhost:8080/"
        },
        "id": "grwVZIMbE4Ue",
        "outputId": "d1c68066-e290-4d26-a63b-8874f9482f68"
      },
      "source": [
        "kmeans.labels_"
      ],
      "execution_count": null,
      "outputs": [
        {
          "output_type": "execute_result",
          "data": {
            "text/plain": [
              "array([5, 5, 0, 0, 4, 3, 7, 3, 6, 0, 5, 1, 0, 7, 2, 0, 7, 0, 1, 5, 7, 2,\n",
              "       7, 3, 5, 2, 2, 0, 3, 7, 7, 3, 0, 6, 7, 0, 5, 7, 6, 3, 2, 3, 6, 0,\n",
              "       3, 5, 2, 4, 4, 6, 4, 4, 4, 2, 5, 3, 5, 3, 7, 3, 4, 6, 5, 5, 0, 5,\n",
              "       2, 0, 5, 5, 6, 5, 0, 5, 2, 3, 4, 0, 5, 3, 4, 4, 5, 5, 4, 5, 5, 0,\n",
              "       1, 6, 0, 0, 3, 6, 5, 5, 2, 2, 6, 4], dtype=int32)"
            ]
          },
          "metadata": {},
          "execution_count": 125
        }
      ]
    },
    {
      "cell_type": "code",
      "metadata": {
        "id": "1ilt6SRbE-xa"
      },
      "source": [
        "from sklearn.metrics import silhouette_score"
      ],
      "execution_count": null,
      "outputs": []
    },
    {
      "cell_type": "code",
      "metadata": {
        "colab": {
          "base_uri": "https://localhost:8080/"
        },
        "id": "MAmtusbWFE9q",
        "outputId": "2c28d7a5-5847-41f3-ef6c-1b376b06cca6"
      },
      "source": [
        "silhouette_score(X,kmeans.labels_)"
      ],
      "execution_count": null,
      "outputs": [
        {
          "output_type": "execute_result",
          "data": {
            "text/plain": [
              "0.08278941471282261"
            ]
          },
          "metadata": {},
          "execution_count": 127
        }
      ]
    },
    {
      "cell_type": "code",
      "metadata": {
        "colab": {
          "base_uri": "https://localhost:8080/"
        },
        "id": "t-oFiSk8FLIY",
        "outputId": "c6efb959-d1fe-481b-ebb4-06e795c85f91"
      },
      "source": [
        "ag = AgglomerativeClustering(n_clusters=8)\n",
        "ag.fit(X)"
      ],
      "execution_count": null,
      "outputs": [
        {
          "output_type": "execute_result",
          "data": {
            "text/plain": [
              "AgglomerativeClustering(affinity='euclidean', compute_full_tree='auto',\n",
              "                        connectivity=None, distance_threshold=None,\n",
              "                        linkage='ward', memory=None, n_clusters=8)"
            ]
          },
          "metadata": {},
          "execution_count": 128
        }
      ]
    },
    {
      "cell_type": "code",
      "metadata": {
        "colab": {
          "base_uri": "https://localhost:8080/"
        },
        "id": "N52oD6W-FSqw",
        "outputId": "731c2b63-e558-430b-b0b3-18648752e80c"
      },
      "source": [
        "silhouette_score(X,ag.labels_)"
      ],
      "execution_count": null,
      "outputs": [
        {
          "output_type": "execute_result",
          "data": {
            "text/plain": [
              "0.07553618792351706"
            ]
          },
          "metadata": {},
          "execution_count": 129
        }
      ]
    },
    {
      "cell_type": "code",
      "metadata": {
        "colab": {
          "base_uri": "https://localhost:8080/",
          "height": 35
        },
        "id": "BhWi9jZSFYXR",
        "outputId": "fcc17e91-7533-465b-8e20-c3af94489e14"
      },
      "source": [
        "\"\""
      ],
      "execution_count": null,
      "outputs": [
        {
          "output_type": "execute_result",
          "data": {
            "application/vnd.google.colaboratory.intrinsic+json": {
              "type": "string"
            },
            "text/plain": [
              "''"
            ]
          },
          "metadata": {},
          "execution_count": 130
        }
      ]
    }
  ]
}